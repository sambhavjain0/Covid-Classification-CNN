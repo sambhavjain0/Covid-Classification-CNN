{
  "nbformat": 4,
  "nbformat_minor": 0,
  "metadata": {
    "colab": {
      "provenance": [],
      "gpuType": "T4"
    },
    "kernelspec": {
      "name": "python3",
      "display_name": "Python 3"
    },
    "language_info": {
      "name": "python"
    },
    "accelerator": "GPU"
  },
  "cells": [
    {
      "cell_type": "code",
      "source": [
        "from google.colab import drive\n",
        "drive.mount('/content/drive')"
      ],
      "metadata": {
        "colab": {
          "base_uri": "https://localhost:8080/"
        },
        "id": "VKHz4dosxUY1",
        "outputId": "38447b6c-dafc-41ef-8827-d0c6348e9589"
      },
      "execution_count": 1,
      "outputs": [
        {
          "output_type": "stream",
          "name": "stdout",
          "text": [
            "Drive already mounted at /content/drive; to attempt to forcibly remount, call drive.mount(\"/content/drive\", force_remount=True).\n"
          ]
        }
      ]
    },
    {
      "cell_type": "markdown",
      "source": [],
      "metadata": {
        "id": "08zbZQyyxU2t"
      }
    },
    {
      "cell_type": "code",
      "source": [
        "import pandas as pd"
      ],
      "metadata": {
        "id": "h5uPEFN2xmMv"
      },
      "execution_count": 2,
      "outputs": []
    },
    {
      "cell_type": "code",
      "source": [
        "df = pd.read_csv(\"/content/drive/MyDrive/Covid Data Set/metadata.csv\")"
      ],
      "metadata": {
        "id": "_a9JRQH2x_jK"
      },
      "execution_count": 3,
      "outputs": []
    },
    {
      "cell_type": "code",
      "source": [
        "missing_values = df.isnull()"
      ],
      "metadata": {
        "id": "kW6PpLv0ysYj"
      },
      "execution_count": 4,
      "outputs": []
    },
    {
      "cell_type": "code",
      "source": [
        "constant_value = 0\n",
        "df['RT_PCR_positive'] = df['RT_PCR_positive'].fillna(constant_value)"
      ],
      "metadata": {
        "id": "CXxy7wYDy1hL"
      },
      "execution_count": 5,
      "outputs": []
    },
    {
      "cell_type": "code",
      "source": [
        "df['RT_PCR_positive'] = df['RT_PCR_positive'].replace(\"Y\", 1)\n",
        "df['RT_PCR_positive'] = df['RT_PCR_positive'].replace(\"Unclear\", 1)\n"
      ],
      "metadata": {
        "id": "P_C9klGpy3Rc"
      },
      "execution_count": 6,
      "outputs": []
    },
    {
      "cell_type": "code",
      "source": [
        "columns_to_keep = ['RT_PCR_positive', 'filename']"
      ],
      "metadata": {
        "id": "SPhudNpJzmaD"
      },
      "execution_count": 7,
      "outputs": []
    },
    {
      "cell_type": "code",
      "source": [
        "df = df.drop(columns=[col for col in df.columns if col not in columns_to_keep])"
      ],
      "metadata": {
        "id": "aXDCa18Ez67-"
      },
      "execution_count": 8,
      "outputs": []
    },
    {
      "cell_type": "code",
      "source": [
        "df.head"
      ],
      "metadata": {
        "colab": {
          "base_uri": "https://localhost:8080/"
        },
        "id": "mA_pbCUHz-O-",
        "outputId": "68569ff4-e10e-4eda-c109-1b5094e4f770"
      },
      "execution_count": 9,
      "outputs": [
        {
          "output_type": "execute_result",
          "data": {
            "text/plain": [
              "<bound method NDFrame.head of      RT_PCR_positive                                           filename\n",
              "0                  1  auntminnie-a-2020_01_28_23_51_6665_2020_01_28_...\n",
              "1                  1  auntminnie-b-2020_01_28_23_51_6665_2020_01_28_...\n",
              "2                  1  auntminnie-c-2020_01_28_23_51_6665_2020_01_28_...\n",
              "3                  1  auntminnie-d-2020_01_28_23_51_6665_2020_01_28_...\n",
              "4                  1                              nejmc2001573_f1a.jpeg\n",
              "..               ...                                                ...\n",
              "945                0        072ecaf8c60a81980abb57150a8016_jumbo-9.jpeg\n",
              "946                0        ff33c406392b968d483174c97eb857_jumbo-9.jpeg\n",
              "947                0                                     000001-266.jpg\n",
              "948                0                                     000001-272.jpg\n",
              "949                0                                     000002-268.jpg\n",
              "\n",
              "[950 rows x 2 columns]>"
            ]
          },
          "metadata": {},
          "execution_count": 9
        }
      ]
    },
    {
      "cell_type": "code",
      "source": [
        "import os"
      ],
      "metadata": {
        "id": "vmQjxSjCz_v8"
      },
      "execution_count": 10,
      "outputs": []
    },
    {
      "cell_type": "code",
      "source": [
        "file_column = df['filename']"
      ],
      "metadata": {
        "id": "8sJ0FDc40YZK"
      },
      "execution_count": 11,
      "outputs": []
    },
    {
      "cell_type": "code",
      "source": [
        "images_path_valid = []"
      ],
      "metadata": {
        "id": "-jCez9lT0f5m"
      },
      "execution_count": 12,
      "outputs": []
    },
    {
      "cell_type": "code",
      "source": [
        "for file_name in file_column:\n",
        "    _, file_extension = os.path.splitext(file_name)\n",
        "\n",
        "    if file_extension.lower() == '.jpg':\n",
        "        images_path_valid.append(file_name)\n",
        "    if file_extension.lower() == '.jpeg':\n",
        "        images_path_valid.append(file_name)\n",
        "    if file_extension.lower() == '.png':\n",
        "        images_path_valid.append(file_name)"
      ],
      "metadata": {
        "id": "_ScdBjk40hau"
      },
      "execution_count": 13,
      "outputs": []
    },
    {
      "cell_type": "code",
      "source": [
        "jpg_count = len(images_path_valid)\n",
        "\n",
        "print(f\"Number of JPG files: {jpg_count}\")"
      ],
      "metadata": {
        "colab": {
          "base_uri": "https://localhost:8080/"
        },
        "id": "0CVTcDss0xmh",
        "outputId": "b8e3f751-7f19-4a35-ec6a-4212c64d524d"
      },
      "execution_count": 14,
      "outputs": [
        {
          "output_type": "stream",
          "name": "stdout",
          "text": [
            "Number of JPG files: 929\n"
          ]
        }
      ]
    },
    {
      "cell_type": "code",
      "source": [
        "filtered_df = df[df['filename'].str.lower().str.endswith(('.jpg', '.jpeg', '.png'))]"
      ],
      "metadata": {
        "id": "zUu42Yww07EQ"
      },
      "execution_count": 15,
      "outputs": []
    },
    {
      "cell_type": "code",
      "source": [
        "filtered_df"
      ],
      "metadata": {
        "colab": {
          "base_uri": "https://localhost:8080/",
          "height": 424
        },
        "id": "VOGxzYq33ZD9",
        "outputId": "91580028-0732-4c55-b561-851a9ff87cda"
      },
      "execution_count": 16,
      "outputs": [
        {
          "output_type": "execute_result",
          "data": {
            "text/plain": [
              "     RT_PCR_positive                                           filename\n",
              "0                  1  auntminnie-a-2020_01_28_23_51_6665_2020_01_28_...\n",
              "1                  1  auntminnie-b-2020_01_28_23_51_6665_2020_01_28_...\n",
              "2                  1  auntminnie-c-2020_01_28_23_51_6665_2020_01_28_...\n",
              "3                  1  auntminnie-d-2020_01_28_23_51_6665_2020_01_28_...\n",
              "4                  1                              nejmc2001573_f1a.jpeg\n",
              "..               ...                                                ...\n",
              "945                0        072ecaf8c60a81980abb57150a8016_jumbo-9.jpeg\n",
              "946                0        ff33c406392b968d483174c97eb857_jumbo-9.jpeg\n",
              "947                0                                     000001-266.jpg\n",
              "948                0                                     000001-272.jpg\n",
              "949                0                                     000002-268.jpg\n",
              "\n",
              "[929 rows x 2 columns]"
            ],
            "text/html": [
              "\n",
              "  <div id=\"df-8c2f052d-2160-4929-9cae-e41a2b5c40f1\" class=\"colab-df-container\">\n",
              "    <div>\n",
              "<style scoped>\n",
              "    .dataframe tbody tr th:only-of-type {\n",
              "        vertical-align: middle;\n",
              "    }\n",
              "\n",
              "    .dataframe tbody tr th {\n",
              "        vertical-align: top;\n",
              "    }\n",
              "\n",
              "    .dataframe thead th {\n",
              "        text-align: right;\n",
              "    }\n",
              "</style>\n",
              "<table border=\"1\" class=\"dataframe\">\n",
              "  <thead>\n",
              "    <tr style=\"text-align: right;\">\n",
              "      <th></th>\n",
              "      <th>RT_PCR_positive</th>\n",
              "      <th>filename</th>\n",
              "    </tr>\n",
              "  </thead>\n",
              "  <tbody>\n",
              "    <tr>\n",
              "      <th>0</th>\n",
              "      <td>1</td>\n",
              "      <td>auntminnie-a-2020_01_28_23_51_6665_2020_01_28_...</td>\n",
              "    </tr>\n",
              "    <tr>\n",
              "      <th>1</th>\n",
              "      <td>1</td>\n",
              "      <td>auntminnie-b-2020_01_28_23_51_6665_2020_01_28_...</td>\n",
              "    </tr>\n",
              "    <tr>\n",
              "      <th>2</th>\n",
              "      <td>1</td>\n",
              "      <td>auntminnie-c-2020_01_28_23_51_6665_2020_01_28_...</td>\n",
              "    </tr>\n",
              "    <tr>\n",
              "      <th>3</th>\n",
              "      <td>1</td>\n",
              "      <td>auntminnie-d-2020_01_28_23_51_6665_2020_01_28_...</td>\n",
              "    </tr>\n",
              "    <tr>\n",
              "      <th>4</th>\n",
              "      <td>1</td>\n",
              "      <td>nejmc2001573_f1a.jpeg</td>\n",
              "    </tr>\n",
              "    <tr>\n",
              "      <th>...</th>\n",
              "      <td>...</td>\n",
              "      <td>...</td>\n",
              "    </tr>\n",
              "    <tr>\n",
              "      <th>945</th>\n",
              "      <td>0</td>\n",
              "      <td>072ecaf8c60a81980abb57150a8016_jumbo-9.jpeg</td>\n",
              "    </tr>\n",
              "    <tr>\n",
              "      <th>946</th>\n",
              "      <td>0</td>\n",
              "      <td>ff33c406392b968d483174c97eb857_jumbo-9.jpeg</td>\n",
              "    </tr>\n",
              "    <tr>\n",
              "      <th>947</th>\n",
              "      <td>0</td>\n",
              "      <td>000001-266.jpg</td>\n",
              "    </tr>\n",
              "    <tr>\n",
              "      <th>948</th>\n",
              "      <td>0</td>\n",
              "      <td>000001-272.jpg</td>\n",
              "    </tr>\n",
              "    <tr>\n",
              "      <th>949</th>\n",
              "      <td>0</td>\n",
              "      <td>000002-268.jpg</td>\n",
              "    </tr>\n",
              "  </tbody>\n",
              "</table>\n",
              "<p>929 rows × 2 columns</p>\n",
              "</div>\n",
              "    <div class=\"colab-df-buttons\">\n",
              "\n",
              "  <div class=\"colab-df-container\">\n",
              "    <button class=\"colab-df-convert\" onclick=\"convertToInteractive('df-8c2f052d-2160-4929-9cae-e41a2b5c40f1')\"\n",
              "            title=\"Convert this dataframe to an interactive table.\"\n",
              "            style=\"display:none;\">\n",
              "\n",
              "  <svg xmlns=\"http://www.w3.org/2000/svg\" height=\"24px\" viewBox=\"0 -960 960 960\">\n",
              "    <path d=\"M120-120v-720h720v720H120Zm60-500h600v-160H180v160Zm220 220h160v-160H400v160Zm0 220h160v-160H400v160ZM180-400h160v-160H180v160Zm440 0h160v-160H620v160ZM180-180h160v-160H180v160Zm440 0h160v-160H620v160Z\"/>\n",
              "  </svg>\n",
              "    </button>\n",
              "\n",
              "  <style>\n",
              "    .colab-df-container {\n",
              "      display:flex;\n",
              "      gap: 12px;\n",
              "    }\n",
              "\n",
              "    .colab-df-convert {\n",
              "      background-color: #E8F0FE;\n",
              "      border: none;\n",
              "      border-radius: 50%;\n",
              "      cursor: pointer;\n",
              "      display: none;\n",
              "      fill: #1967D2;\n",
              "      height: 32px;\n",
              "      padding: 0 0 0 0;\n",
              "      width: 32px;\n",
              "    }\n",
              "\n",
              "    .colab-df-convert:hover {\n",
              "      background-color: #E2EBFA;\n",
              "      box-shadow: 0px 1px 2px rgba(60, 64, 67, 0.3), 0px 1px 3px 1px rgba(60, 64, 67, 0.15);\n",
              "      fill: #174EA6;\n",
              "    }\n",
              "\n",
              "    .colab-df-buttons div {\n",
              "      margin-bottom: 4px;\n",
              "    }\n",
              "\n",
              "    [theme=dark] .colab-df-convert {\n",
              "      background-color: #3B4455;\n",
              "      fill: #D2E3FC;\n",
              "    }\n",
              "\n",
              "    [theme=dark] .colab-df-convert:hover {\n",
              "      background-color: #434B5C;\n",
              "      box-shadow: 0px 1px 3px 1px rgba(0, 0, 0, 0.15);\n",
              "      filter: drop-shadow(0px 1px 2px rgba(0, 0, 0, 0.3));\n",
              "      fill: #FFFFFF;\n",
              "    }\n",
              "  </style>\n",
              "\n",
              "    <script>\n",
              "      const buttonEl =\n",
              "        document.querySelector('#df-8c2f052d-2160-4929-9cae-e41a2b5c40f1 button.colab-df-convert');\n",
              "      buttonEl.style.display =\n",
              "        google.colab.kernel.accessAllowed ? 'block' : 'none';\n",
              "\n",
              "      async function convertToInteractive(key) {\n",
              "        const element = document.querySelector('#df-8c2f052d-2160-4929-9cae-e41a2b5c40f1');\n",
              "        const dataTable =\n",
              "          await google.colab.kernel.invokeFunction('convertToInteractive',\n",
              "                                                    [key], {});\n",
              "        if (!dataTable) return;\n",
              "\n",
              "        const docLinkHtml = 'Like what you see? Visit the ' +\n",
              "          '<a target=\"_blank\" href=https://colab.research.google.com/notebooks/data_table.ipynb>data table notebook</a>'\n",
              "          + ' to learn more about interactive tables.';\n",
              "        element.innerHTML = '';\n",
              "        dataTable['output_type'] = 'display_data';\n",
              "        await google.colab.output.renderOutput(dataTable, element);\n",
              "        const docLink = document.createElement('div');\n",
              "        docLink.innerHTML = docLinkHtml;\n",
              "        element.appendChild(docLink);\n",
              "      }\n",
              "    </script>\n",
              "  </div>\n",
              "\n",
              "\n",
              "<div id=\"df-0f604519-9ee2-4135-88e4-65506fd08b4f\">\n",
              "  <button class=\"colab-df-quickchart\" onclick=\"quickchart('df-0f604519-9ee2-4135-88e4-65506fd08b4f')\"\n",
              "            title=\"Suggest charts.\"\n",
              "            style=\"display:none;\">\n",
              "\n",
              "<svg xmlns=\"http://www.w3.org/2000/svg\" height=\"24px\"viewBox=\"0 0 24 24\"\n",
              "     width=\"24px\">\n",
              "    <g>\n",
              "        <path d=\"M19 3H5c-1.1 0-2 .9-2 2v14c0 1.1.9 2 2 2h14c1.1 0 2-.9 2-2V5c0-1.1-.9-2-2-2zM9 17H7v-7h2v7zm4 0h-2V7h2v10zm4 0h-2v-4h2v4z\"/>\n",
              "    </g>\n",
              "</svg>\n",
              "  </button>\n",
              "\n",
              "<style>\n",
              "  .colab-df-quickchart {\n",
              "      --bg-color: #E8F0FE;\n",
              "      --fill-color: #1967D2;\n",
              "      --hover-bg-color: #E2EBFA;\n",
              "      --hover-fill-color: #174EA6;\n",
              "      --disabled-fill-color: #AAA;\n",
              "      --disabled-bg-color: #DDD;\n",
              "  }\n",
              "\n",
              "  [theme=dark] .colab-df-quickchart {\n",
              "      --bg-color: #3B4455;\n",
              "      --fill-color: #D2E3FC;\n",
              "      --hover-bg-color: #434B5C;\n",
              "      --hover-fill-color: #FFFFFF;\n",
              "      --disabled-bg-color: #3B4455;\n",
              "      --disabled-fill-color: #666;\n",
              "  }\n",
              "\n",
              "  .colab-df-quickchart {\n",
              "    background-color: var(--bg-color);\n",
              "    border: none;\n",
              "    border-radius: 50%;\n",
              "    cursor: pointer;\n",
              "    display: none;\n",
              "    fill: var(--fill-color);\n",
              "    height: 32px;\n",
              "    padding: 0;\n",
              "    width: 32px;\n",
              "  }\n",
              "\n",
              "  .colab-df-quickchart:hover {\n",
              "    background-color: var(--hover-bg-color);\n",
              "    box-shadow: 0 1px 2px rgba(60, 64, 67, 0.3), 0 1px 3px 1px rgba(60, 64, 67, 0.15);\n",
              "    fill: var(--button-hover-fill-color);\n",
              "  }\n",
              "\n",
              "  .colab-df-quickchart-complete:disabled,\n",
              "  .colab-df-quickchart-complete:disabled:hover {\n",
              "    background-color: var(--disabled-bg-color);\n",
              "    fill: var(--disabled-fill-color);\n",
              "    box-shadow: none;\n",
              "  }\n",
              "\n",
              "  .colab-df-spinner {\n",
              "    border: 2px solid var(--fill-color);\n",
              "    border-color: transparent;\n",
              "    border-bottom-color: var(--fill-color);\n",
              "    animation:\n",
              "      spin 1s steps(1) infinite;\n",
              "  }\n",
              "\n",
              "  @keyframes spin {\n",
              "    0% {\n",
              "      border-color: transparent;\n",
              "      border-bottom-color: var(--fill-color);\n",
              "      border-left-color: var(--fill-color);\n",
              "    }\n",
              "    20% {\n",
              "      border-color: transparent;\n",
              "      border-left-color: var(--fill-color);\n",
              "      border-top-color: var(--fill-color);\n",
              "    }\n",
              "    30% {\n",
              "      border-color: transparent;\n",
              "      border-left-color: var(--fill-color);\n",
              "      border-top-color: var(--fill-color);\n",
              "      border-right-color: var(--fill-color);\n",
              "    }\n",
              "    40% {\n",
              "      border-color: transparent;\n",
              "      border-right-color: var(--fill-color);\n",
              "      border-top-color: var(--fill-color);\n",
              "    }\n",
              "    60% {\n",
              "      border-color: transparent;\n",
              "      border-right-color: var(--fill-color);\n",
              "    }\n",
              "    80% {\n",
              "      border-color: transparent;\n",
              "      border-right-color: var(--fill-color);\n",
              "      border-bottom-color: var(--fill-color);\n",
              "    }\n",
              "    90% {\n",
              "      border-color: transparent;\n",
              "      border-bottom-color: var(--fill-color);\n",
              "    }\n",
              "  }\n",
              "</style>\n",
              "\n",
              "  <script>\n",
              "    async function quickchart(key) {\n",
              "      const quickchartButtonEl =\n",
              "        document.querySelector('#' + key + ' button');\n",
              "      quickchartButtonEl.disabled = true;  // To prevent multiple clicks.\n",
              "      quickchartButtonEl.classList.add('colab-df-spinner');\n",
              "      try {\n",
              "        const charts = await google.colab.kernel.invokeFunction(\n",
              "            'suggestCharts', [key], {});\n",
              "      } catch (error) {\n",
              "        console.error('Error during call to suggestCharts:', error);\n",
              "      }\n",
              "      quickchartButtonEl.classList.remove('colab-df-spinner');\n",
              "      quickchartButtonEl.classList.add('colab-df-quickchart-complete');\n",
              "    }\n",
              "    (() => {\n",
              "      let quickchartButtonEl =\n",
              "        document.querySelector('#df-0f604519-9ee2-4135-88e4-65506fd08b4f button');\n",
              "      quickchartButtonEl.style.display =\n",
              "        google.colab.kernel.accessAllowed ? 'block' : 'none';\n",
              "    })();\n",
              "  </script>\n",
              "</div>\n",
              "    </div>\n",
              "  </div>\n"
            ]
          },
          "metadata": {},
          "execution_count": 16
        }
      ]
    },
    {
      "cell_type": "code",
      "source": [
        "import tensorflow as tf\n",
        "from tensorflow.keras.models import Sequential\n",
        "from tensorflow.keras.layers import Conv2D, MaxPooling2D, Flatten, Dense\n",
        "from tensorflow.keras.layers import Dropout"
      ],
      "metadata": {
        "id": "nSNH6FQo3eJ9"
      },
      "execution_count": 17,
      "outputs": []
    },
    {
      "cell_type": "code",
      "source": [
        "image_folder = \"/content/drive/MyDrive/Covid Data Set/images/images/\""
      ],
      "metadata": {
        "id": "EgOzTFBU4awB"
      },
      "execution_count": 18,
      "outputs": []
    },
    {
      "cell_type": "code",
      "source": [
        "filtered_df['file_path'] = image_folder + filtered_df['filename']"
      ],
      "metadata": {
        "colab": {
          "base_uri": "https://localhost:8080/"
        },
        "id": "rqMBr1jC4vkq",
        "outputId": "668a73b5-c952-4881-fecc-aa8e9437282e"
      },
      "execution_count": 19,
      "outputs": [
        {
          "output_type": "stream",
          "name": "stderr",
          "text": [
            "<ipython-input-19-9adf95b9a36e>:1: SettingWithCopyWarning: \n",
            "A value is trying to be set on a copy of a slice from a DataFrame.\n",
            "Try using .loc[row_indexer,col_indexer] = value instead\n",
            "\n",
            "See the caveats in the documentation: https://pandas.pydata.org/pandas-docs/stable/user_guide/indexing.html#returning-a-view-versus-a-copy\n",
            "  filtered_df['file_path'] = image_folder + filtered_df['filename']\n"
          ]
        }
      ]
    },
    {
      "cell_type": "code",
      "source": [
        "filtered_df"
      ],
      "metadata": {
        "colab": {
          "base_uri": "https://localhost:8080/",
          "height": 424
        },
        "id": "EC1qFQFm6KvR",
        "outputId": "bf1bfb79-a9c6-4805-fa47-a23702228506"
      },
      "execution_count": 20,
      "outputs": [
        {
          "output_type": "execute_result",
          "data": {
            "text/plain": [
              "     RT_PCR_positive                                           filename  \\\n",
              "0                  1  auntminnie-a-2020_01_28_23_51_6665_2020_01_28_...   \n",
              "1                  1  auntminnie-b-2020_01_28_23_51_6665_2020_01_28_...   \n",
              "2                  1  auntminnie-c-2020_01_28_23_51_6665_2020_01_28_...   \n",
              "3                  1  auntminnie-d-2020_01_28_23_51_6665_2020_01_28_...   \n",
              "4                  1                              nejmc2001573_f1a.jpeg   \n",
              "..               ...                                                ...   \n",
              "945                0        072ecaf8c60a81980abb57150a8016_jumbo-9.jpeg   \n",
              "946                0        ff33c406392b968d483174c97eb857_jumbo-9.jpeg   \n",
              "947                0                                     000001-266.jpg   \n",
              "948                0                                     000001-272.jpg   \n",
              "949                0                                     000002-268.jpg   \n",
              "\n",
              "                                             file_path  \n",
              "0    /content/drive/MyDrive/Covid Data Set/images/i...  \n",
              "1    /content/drive/MyDrive/Covid Data Set/images/i...  \n",
              "2    /content/drive/MyDrive/Covid Data Set/images/i...  \n",
              "3    /content/drive/MyDrive/Covid Data Set/images/i...  \n",
              "4    /content/drive/MyDrive/Covid Data Set/images/i...  \n",
              "..                                                 ...  \n",
              "945  /content/drive/MyDrive/Covid Data Set/images/i...  \n",
              "946  /content/drive/MyDrive/Covid Data Set/images/i...  \n",
              "947  /content/drive/MyDrive/Covid Data Set/images/i...  \n",
              "948  /content/drive/MyDrive/Covid Data Set/images/i...  \n",
              "949  /content/drive/MyDrive/Covid Data Set/images/i...  \n",
              "\n",
              "[929 rows x 3 columns]"
            ],
            "text/html": [
              "\n",
              "  <div id=\"df-4c2616fc-69b6-4b33-bdd9-2a7c0735a129\" class=\"colab-df-container\">\n",
              "    <div>\n",
              "<style scoped>\n",
              "    .dataframe tbody tr th:only-of-type {\n",
              "        vertical-align: middle;\n",
              "    }\n",
              "\n",
              "    .dataframe tbody tr th {\n",
              "        vertical-align: top;\n",
              "    }\n",
              "\n",
              "    .dataframe thead th {\n",
              "        text-align: right;\n",
              "    }\n",
              "</style>\n",
              "<table border=\"1\" class=\"dataframe\">\n",
              "  <thead>\n",
              "    <tr style=\"text-align: right;\">\n",
              "      <th></th>\n",
              "      <th>RT_PCR_positive</th>\n",
              "      <th>filename</th>\n",
              "      <th>file_path</th>\n",
              "    </tr>\n",
              "  </thead>\n",
              "  <tbody>\n",
              "    <tr>\n",
              "      <th>0</th>\n",
              "      <td>1</td>\n",
              "      <td>auntminnie-a-2020_01_28_23_51_6665_2020_01_28_...</td>\n",
              "      <td>/content/drive/MyDrive/Covid Data Set/images/i...</td>\n",
              "    </tr>\n",
              "    <tr>\n",
              "      <th>1</th>\n",
              "      <td>1</td>\n",
              "      <td>auntminnie-b-2020_01_28_23_51_6665_2020_01_28_...</td>\n",
              "      <td>/content/drive/MyDrive/Covid Data Set/images/i...</td>\n",
              "    </tr>\n",
              "    <tr>\n",
              "      <th>2</th>\n",
              "      <td>1</td>\n",
              "      <td>auntminnie-c-2020_01_28_23_51_6665_2020_01_28_...</td>\n",
              "      <td>/content/drive/MyDrive/Covid Data Set/images/i...</td>\n",
              "    </tr>\n",
              "    <tr>\n",
              "      <th>3</th>\n",
              "      <td>1</td>\n",
              "      <td>auntminnie-d-2020_01_28_23_51_6665_2020_01_28_...</td>\n",
              "      <td>/content/drive/MyDrive/Covid Data Set/images/i...</td>\n",
              "    </tr>\n",
              "    <tr>\n",
              "      <th>4</th>\n",
              "      <td>1</td>\n",
              "      <td>nejmc2001573_f1a.jpeg</td>\n",
              "      <td>/content/drive/MyDrive/Covid Data Set/images/i...</td>\n",
              "    </tr>\n",
              "    <tr>\n",
              "      <th>...</th>\n",
              "      <td>...</td>\n",
              "      <td>...</td>\n",
              "      <td>...</td>\n",
              "    </tr>\n",
              "    <tr>\n",
              "      <th>945</th>\n",
              "      <td>0</td>\n",
              "      <td>072ecaf8c60a81980abb57150a8016_jumbo-9.jpeg</td>\n",
              "      <td>/content/drive/MyDrive/Covid Data Set/images/i...</td>\n",
              "    </tr>\n",
              "    <tr>\n",
              "      <th>946</th>\n",
              "      <td>0</td>\n",
              "      <td>ff33c406392b968d483174c97eb857_jumbo-9.jpeg</td>\n",
              "      <td>/content/drive/MyDrive/Covid Data Set/images/i...</td>\n",
              "    </tr>\n",
              "    <tr>\n",
              "      <th>947</th>\n",
              "      <td>0</td>\n",
              "      <td>000001-266.jpg</td>\n",
              "      <td>/content/drive/MyDrive/Covid Data Set/images/i...</td>\n",
              "    </tr>\n",
              "    <tr>\n",
              "      <th>948</th>\n",
              "      <td>0</td>\n",
              "      <td>000001-272.jpg</td>\n",
              "      <td>/content/drive/MyDrive/Covid Data Set/images/i...</td>\n",
              "    </tr>\n",
              "    <tr>\n",
              "      <th>949</th>\n",
              "      <td>0</td>\n",
              "      <td>000002-268.jpg</td>\n",
              "      <td>/content/drive/MyDrive/Covid Data Set/images/i...</td>\n",
              "    </tr>\n",
              "  </tbody>\n",
              "</table>\n",
              "<p>929 rows × 3 columns</p>\n",
              "</div>\n",
              "    <div class=\"colab-df-buttons\">\n",
              "\n",
              "  <div class=\"colab-df-container\">\n",
              "    <button class=\"colab-df-convert\" onclick=\"convertToInteractive('df-4c2616fc-69b6-4b33-bdd9-2a7c0735a129')\"\n",
              "            title=\"Convert this dataframe to an interactive table.\"\n",
              "            style=\"display:none;\">\n",
              "\n",
              "  <svg xmlns=\"http://www.w3.org/2000/svg\" height=\"24px\" viewBox=\"0 -960 960 960\">\n",
              "    <path d=\"M120-120v-720h720v720H120Zm60-500h600v-160H180v160Zm220 220h160v-160H400v160Zm0 220h160v-160H400v160ZM180-400h160v-160H180v160Zm440 0h160v-160H620v160ZM180-180h160v-160H180v160Zm440 0h160v-160H620v160Z\"/>\n",
              "  </svg>\n",
              "    </button>\n",
              "\n",
              "  <style>\n",
              "    .colab-df-container {\n",
              "      display:flex;\n",
              "      gap: 12px;\n",
              "    }\n",
              "\n",
              "    .colab-df-convert {\n",
              "      background-color: #E8F0FE;\n",
              "      border: none;\n",
              "      border-radius: 50%;\n",
              "      cursor: pointer;\n",
              "      display: none;\n",
              "      fill: #1967D2;\n",
              "      height: 32px;\n",
              "      padding: 0 0 0 0;\n",
              "      width: 32px;\n",
              "    }\n",
              "\n",
              "    .colab-df-convert:hover {\n",
              "      background-color: #E2EBFA;\n",
              "      box-shadow: 0px 1px 2px rgba(60, 64, 67, 0.3), 0px 1px 3px 1px rgba(60, 64, 67, 0.15);\n",
              "      fill: #174EA6;\n",
              "    }\n",
              "\n",
              "    .colab-df-buttons div {\n",
              "      margin-bottom: 4px;\n",
              "    }\n",
              "\n",
              "    [theme=dark] .colab-df-convert {\n",
              "      background-color: #3B4455;\n",
              "      fill: #D2E3FC;\n",
              "    }\n",
              "\n",
              "    [theme=dark] .colab-df-convert:hover {\n",
              "      background-color: #434B5C;\n",
              "      box-shadow: 0px 1px 3px 1px rgba(0, 0, 0, 0.15);\n",
              "      filter: drop-shadow(0px 1px 2px rgba(0, 0, 0, 0.3));\n",
              "      fill: #FFFFFF;\n",
              "    }\n",
              "  </style>\n",
              "\n",
              "    <script>\n",
              "      const buttonEl =\n",
              "        document.querySelector('#df-4c2616fc-69b6-4b33-bdd9-2a7c0735a129 button.colab-df-convert');\n",
              "      buttonEl.style.display =\n",
              "        google.colab.kernel.accessAllowed ? 'block' : 'none';\n",
              "\n",
              "      async function convertToInteractive(key) {\n",
              "        const element = document.querySelector('#df-4c2616fc-69b6-4b33-bdd9-2a7c0735a129');\n",
              "        const dataTable =\n",
              "          await google.colab.kernel.invokeFunction('convertToInteractive',\n",
              "                                                    [key], {});\n",
              "        if (!dataTable) return;\n",
              "\n",
              "        const docLinkHtml = 'Like what you see? Visit the ' +\n",
              "          '<a target=\"_blank\" href=https://colab.research.google.com/notebooks/data_table.ipynb>data table notebook</a>'\n",
              "          + ' to learn more about interactive tables.';\n",
              "        element.innerHTML = '';\n",
              "        dataTable['output_type'] = 'display_data';\n",
              "        await google.colab.output.renderOutput(dataTable, element);\n",
              "        const docLink = document.createElement('div');\n",
              "        docLink.innerHTML = docLinkHtml;\n",
              "        element.appendChild(docLink);\n",
              "      }\n",
              "    </script>\n",
              "  </div>\n",
              "\n",
              "\n",
              "<div id=\"df-7ca81f9d-0929-4a41-9a51-26b6c4919029\">\n",
              "  <button class=\"colab-df-quickchart\" onclick=\"quickchart('df-7ca81f9d-0929-4a41-9a51-26b6c4919029')\"\n",
              "            title=\"Suggest charts.\"\n",
              "            style=\"display:none;\">\n",
              "\n",
              "<svg xmlns=\"http://www.w3.org/2000/svg\" height=\"24px\"viewBox=\"0 0 24 24\"\n",
              "     width=\"24px\">\n",
              "    <g>\n",
              "        <path d=\"M19 3H5c-1.1 0-2 .9-2 2v14c0 1.1.9 2 2 2h14c1.1 0 2-.9 2-2V5c0-1.1-.9-2-2-2zM9 17H7v-7h2v7zm4 0h-2V7h2v10zm4 0h-2v-4h2v4z\"/>\n",
              "    </g>\n",
              "</svg>\n",
              "  </button>\n",
              "\n",
              "<style>\n",
              "  .colab-df-quickchart {\n",
              "      --bg-color: #E8F0FE;\n",
              "      --fill-color: #1967D2;\n",
              "      --hover-bg-color: #E2EBFA;\n",
              "      --hover-fill-color: #174EA6;\n",
              "      --disabled-fill-color: #AAA;\n",
              "      --disabled-bg-color: #DDD;\n",
              "  }\n",
              "\n",
              "  [theme=dark] .colab-df-quickchart {\n",
              "      --bg-color: #3B4455;\n",
              "      --fill-color: #D2E3FC;\n",
              "      --hover-bg-color: #434B5C;\n",
              "      --hover-fill-color: #FFFFFF;\n",
              "      --disabled-bg-color: #3B4455;\n",
              "      --disabled-fill-color: #666;\n",
              "  }\n",
              "\n",
              "  .colab-df-quickchart {\n",
              "    background-color: var(--bg-color);\n",
              "    border: none;\n",
              "    border-radius: 50%;\n",
              "    cursor: pointer;\n",
              "    display: none;\n",
              "    fill: var(--fill-color);\n",
              "    height: 32px;\n",
              "    padding: 0;\n",
              "    width: 32px;\n",
              "  }\n",
              "\n",
              "  .colab-df-quickchart:hover {\n",
              "    background-color: var(--hover-bg-color);\n",
              "    box-shadow: 0 1px 2px rgba(60, 64, 67, 0.3), 0 1px 3px 1px rgba(60, 64, 67, 0.15);\n",
              "    fill: var(--button-hover-fill-color);\n",
              "  }\n",
              "\n",
              "  .colab-df-quickchart-complete:disabled,\n",
              "  .colab-df-quickchart-complete:disabled:hover {\n",
              "    background-color: var(--disabled-bg-color);\n",
              "    fill: var(--disabled-fill-color);\n",
              "    box-shadow: none;\n",
              "  }\n",
              "\n",
              "  .colab-df-spinner {\n",
              "    border: 2px solid var(--fill-color);\n",
              "    border-color: transparent;\n",
              "    border-bottom-color: var(--fill-color);\n",
              "    animation:\n",
              "      spin 1s steps(1) infinite;\n",
              "  }\n",
              "\n",
              "  @keyframes spin {\n",
              "    0% {\n",
              "      border-color: transparent;\n",
              "      border-bottom-color: var(--fill-color);\n",
              "      border-left-color: var(--fill-color);\n",
              "    }\n",
              "    20% {\n",
              "      border-color: transparent;\n",
              "      border-left-color: var(--fill-color);\n",
              "      border-top-color: var(--fill-color);\n",
              "    }\n",
              "    30% {\n",
              "      border-color: transparent;\n",
              "      border-left-color: var(--fill-color);\n",
              "      border-top-color: var(--fill-color);\n",
              "      border-right-color: var(--fill-color);\n",
              "    }\n",
              "    40% {\n",
              "      border-color: transparent;\n",
              "      border-right-color: var(--fill-color);\n",
              "      border-top-color: var(--fill-color);\n",
              "    }\n",
              "    60% {\n",
              "      border-color: transparent;\n",
              "      border-right-color: var(--fill-color);\n",
              "    }\n",
              "    80% {\n",
              "      border-color: transparent;\n",
              "      border-right-color: var(--fill-color);\n",
              "      border-bottom-color: var(--fill-color);\n",
              "    }\n",
              "    90% {\n",
              "      border-color: transparent;\n",
              "      border-bottom-color: var(--fill-color);\n",
              "    }\n",
              "  }\n",
              "</style>\n",
              "\n",
              "  <script>\n",
              "    async function quickchart(key) {\n",
              "      const quickchartButtonEl =\n",
              "        document.querySelector('#' + key + ' button');\n",
              "      quickchartButtonEl.disabled = true;  // To prevent multiple clicks.\n",
              "      quickchartButtonEl.classList.add('colab-df-spinner');\n",
              "      try {\n",
              "        const charts = await google.colab.kernel.invokeFunction(\n",
              "            'suggestCharts', [key], {});\n",
              "      } catch (error) {\n",
              "        console.error('Error during call to suggestCharts:', error);\n",
              "      }\n",
              "      quickchartButtonEl.classList.remove('colab-df-spinner');\n",
              "      quickchartButtonEl.classList.add('colab-df-quickchart-complete');\n",
              "    }\n",
              "    (() => {\n",
              "      let quickchartButtonEl =\n",
              "        document.querySelector('#df-7ca81f9d-0929-4a41-9a51-26b6c4919029 button');\n",
              "      quickchartButtonEl.style.display =\n",
              "        google.colab.kernel.accessAllowed ? 'block' : 'none';\n",
              "    })();\n",
              "  </script>\n",
              "</div>\n",
              "    </div>\n",
              "  </div>\n"
            ]
          },
          "metadata": {},
          "execution_count": 20
        }
      ]
    },
    {
      "cell_type": "code",
      "source": [
        "import cv2"
      ],
      "metadata": {
        "id": "rBwb2K4i46r4"
      },
      "execution_count": 21,
      "outputs": []
    },
    {
      "cell_type": "code",
      "source": [
        "def preprocess_image(image_path, target_size=(224, 224)):\n",
        "  if os.path.exists(image_path):\n",
        "    image = cv2.imread(image_path)\n",
        "    image = cv2.cvtColor(image, cv2.COLOR_BGR2RGB)\n",
        "    image = cv2.resize(image, target_size)\n",
        "    image = image / 255.0\n",
        "    return image\n",
        "  else:\n",
        "    print(f\"File not found: {image_path}\")\n",
        "    return None"
      ],
      "metadata": {
        "id": "h1mhyS4m4-WF"
      },
      "execution_count": 22,
      "outputs": []
    },
    {
      "cell_type": "code",
      "source": [
        "import numpy as np"
      ],
      "metadata": {
        "id": "A7Lric2M6XR8"
      },
      "execution_count": 23,
      "outputs": []
    },
    {
      "cell_type": "code",
      "source": [
        "X = np.array([preprocess_image(file_path) for file_path in filtered_df['file_path']])\n",
        "y = filtered_df['RT_PCR_positive'].values"
      ],
      "metadata": {
        "id": "1qhr0Cgk5DTn"
      },
      "execution_count": 24,
      "outputs": []
    },
    {
      "cell_type": "code",
      "source": [
        "from sklearn.model_selection import train_test_split"
      ],
      "metadata": {
        "id": "tXPxw7So6TYO"
      },
      "execution_count": 25,
      "outputs": []
    },
    {
      "cell_type": "code",
      "source": [
        "X_train, X_temp, y_train, y_temp = train_test_split(X, y, test_size=0.3, random_state=42)\n",
        "X_val, X_test, y_val, y_test = train_test_split(X_temp, y_temp, test_size=0.5, random_state=42)"
      ],
      "metadata": {
        "id": "B7qHNqqg8h6s"
      },
      "execution_count": 26,
      "outputs": []
    },
    {
      "cell_type": "code",
      "source": [
        "model = Sequential([\n",
        "    Conv2D(128, (3, 3), activation='relu', input_shape=(224, 224, 3)),\n",
        "    MaxPooling2D((2, 2)),\n",
        "    Conv2D(64, (3, 3), activation='relu'),\n",
        "    MaxPooling2D((2, 2)),\n",
        "    Flatten(),\n",
        "    Dense(10, activation='relu'),\n",
        "    Dense(1, activation='sigmoid')\n",
        "])"
      ],
      "metadata": {
        "id": "eHpmfvAw8nkr"
      },
      "execution_count": 29,
      "outputs": []
    },
    {
      "cell_type": "code",
      "source": [
        "model.compile(optimizer='adam', loss='binary_crossentropy', metrics=['accuracy'])\n",
        "\n",
        "model.fit(X_train, y_train, validation_data=(X_val, y_val), epochs=20)"
      ],
      "metadata": {
        "colab": {
          "base_uri": "https://localhost:8080/"
        },
        "id": "QOG4j_6y8sw-",
        "outputId": "2053349d-c21c-4e8a-b712-57432a9012a9"
      },
      "execution_count": 31,
      "outputs": [
        {
          "output_type": "stream",
          "name": "stdout",
          "text": [
            "Epoch 1/20\n",
            "21/21 [==============================] - 4s 119ms/step - loss: 0.1895 - accuracy: 0.9262 - val_loss: 0.8528 - val_accuracy: 0.6763\n",
            "Epoch 2/20\n",
            "21/21 [==============================] - 2s 96ms/step - loss: 0.1079 - accuracy: 0.9600 - val_loss: 1.0214 - val_accuracy: 0.7122\n",
            "Epoch 3/20\n",
            "21/21 [==============================] - 2s 100ms/step - loss: 0.0995 - accuracy: 0.9754 - val_loss: 1.3654 - val_accuracy: 0.7050\n",
            "Epoch 4/20\n",
            "21/21 [==============================] - 2s 98ms/step - loss: 0.1144 - accuracy: 0.9554 - val_loss: 0.9875 - val_accuracy: 0.6835\n",
            "Epoch 5/20\n",
            "21/21 [==============================] - 2s 106ms/step - loss: 0.0586 - accuracy: 0.9785 - val_loss: 0.9059 - val_accuracy: 0.6691\n",
            "Epoch 6/20\n",
            "21/21 [==============================] - 2s 113ms/step - loss: 0.0566 - accuracy: 0.9846 - val_loss: 1.0419 - val_accuracy: 0.7122\n",
            "Epoch 7/20\n",
            "21/21 [==============================] - 2s 119ms/step - loss: 0.0348 - accuracy: 0.9877 - val_loss: 1.1852 - val_accuracy: 0.7482\n",
            "Epoch 8/20\n",
            "21/21 [==============================] - 2s 116ms/step - loss: 0.0453 - accuracy: 0.9846 - val_loss: 1.1161 - val_accuracy: 0.7554\n",
            "Epoch 9/20\n",
            "21/21 [==============================] - 2s 108ms/step - loss: 0.0352 - accuracy: 0.9908 - val_loss: 1.0727 - val_accuracy: 0.6978\n",
            "Epoch 10/20\n",
            "21/21 [==============================] - 2s 99ms/step - loss: 0.0240 - accuracy: 0.9938 - val_loss: 1.1849 - val_accuracy: 0.7266\n",
            "Epoch 11/20\n",
            "21/21 [==============================] - 2s 112ms/step - loss: 0.0235 - accuracy: 0.9969 - val_loss: 1.2090 - val_accuracy: 0.6978\n",
            "Epoch 12/20\n",
            "21/21 [==============================] - 2s 104ms/step - loss: 0.0106 - accuracy: 0.9969 - val_loss: 1.2593 - val_accuracy: 0.7626\n",
            "Epoch 13/20\n",
            "21/21 [==============================] - 2s 101ms/step - loss: 0.0202 - accuracy: 0.9969 - val_loss: 1.2262 - val_accuracy: 0.7194\n",
            "Epoch 14/20\n",
            "21/21 [==============================] - 2s 101ms/step - loss: 0.0082 - accuracy: 1.0000 - val_loss: 1.1842 - val_accuracy: 0.7338\n",
            "Epoch 15/20\n",
            "21/21 [==============================] - 2s 101ms/step - loss: 0.0045 - accuracy: 1.0000 - val_loss: 1.3121 - val_accuracy: 0.7338\n",
            "Epoch 16/20\n",
            "21/21 [==============================] - 2s 101ms/step - loss: 0.0054 - accuracy: 1.0000 - val_loss: 1.2232 - val_accuracy: 0.7698\n",
            "Epoch 17/20\n",
            "21/21 [==============================] - 2s 102ms/step - loss: 0.0040 - accuracy: 1.0000 - val_loss: 1.2265 - val_accuracy: 0.7410\n",
            "Epoch 18/20\n",
            "21/21 [==============================] - 2s 106ms/step - loss: 0.0025 - accuracy: 1.0000 - val_loss: 1.2259 - val_accuracy: 0.7554\n",
            "Epoch 19/20\n",
            "21/21 [==============================] - 2s 100ms/step - loss: 0.0018 - accuracy: 1.0000 - val_loss: 1.2381 - val_accuracy: 0.7626\n",
            "Epoch 20/20\n",
            "21/21 [==============================] - 2s 99ms/step - loss: 0.0012 - accuracy: 1.0000 - val_loss: 1.2751 - val_accuracy: 0.7482\n"
          ]
        },
        {
          "output_type": "execute_result",
          "data": {
            "text/plain": [
              "<keras.src.callbacks.History at 0x7be2e03442b0>"
            ]
          },
          "metadata": {},
          "execution_count": 31
        }
      ]
    },
    {
      "cell_type": "code",
      "source": [
        "test_loss, test_acc = model.evaluate(X_test, y_test)\n",
        "print(f'Test accuracy: {test_acc}')"
      ],
      "metadata": {
        "colab": {
          "base_uri": "https://localhost:8080/"
        },
        "id": "kq6nIIm180o_",
        "outputId": "dd191a47-b9f9-409b-8563-3e95e074e295"
      },
      "execution_count": 32,
      "outputs": [
        {
          "output_type": "stream",
          "name": "stdout",
          "text": [
            "5/5 [==============================] - 1s 123ms/step - loss: 2.0450 - accuracy: 0.7714\n",
            "Test accuracy: 0.7714285850524902\n"
          ]
        }
      ]
    },
    {
      "cell_type": "code",
      "source": [],
      "metadata": {
        "id": "8hH-b7RD9Bp8"
      },
      "execution_count": null,
      "outputs": []
    }
  ]
}